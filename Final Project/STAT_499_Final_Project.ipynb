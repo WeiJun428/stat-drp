{
  "nbformat": 4,
  "nbformat_minor": 0,
  "metadata": {
    "colab": {
      "name": "STAT 499 Final Project",
      "provenance": [],
      "toc_visible": true,
      "collapsed_sections": [
        "eC3Slcd9CXW7",
        "E23YtrcqMcwb"
      ]
    },
    "kernelspec": {
      "name": "python3",
      "display_name": "Python 3"
    },
    "language_info": {
      "name": "python"
    }
  },
  "cells": [
    {
      "cell_type": "markdown",
      "source": [
        "# Setup"
      ],
      "metadata": {
        "id": "eC3Slcd9CXW7"
      }
    },
    {
      "cell_type": "code",
      "source": [
        "# Import libraries\n",
        "from google.colab import files\n",
        "import numpy as np\n",
        "import pandas as pd\n",
        "import matplotlib.pyplot as plt"
      ],
      "metadata": {
        "id": "8I83NRk1CZ5-"
      },
      "execution_count": null,
      "outputs": []
    },
    {
      "cell_type": "code",
      "source": [
        "plt.rcParams[\"figure.figsize\"] = (50, 3)"
      ],
      "metadata": {
        "id": "HrZcz6vQ8K79"
      },
      "execution_count": null,
      "outputs": []
    },
    {
      "cell_type": "code",
      "source": [
        "# Define Base indices\n",
        "D = {'A': 0, 'T': 1, 'C': 2, 'G': 3}"
      ],
      "metadata": {
        "id": "8u11Z5OFCrWO"
      },
      "execution_count": null,
      "outputs": []
    },
    {
      "cell_type": "code",
      "source": [
        "# Remove newlines in the file and return the resultant string\n",
        "def getData(file_name):\n",
        "  with open(file_name) as f:\n",
        "    lines = f.readlines()\n",
        "  lines = list(map(str.strip, lines))  # Remove trailing '\\n'\n",
        "  data = ''.join(lines)                # Join the string\n",
        "  return data"
      ],
      "metadata": {
        "id": "uyThjC8TCuNr"
      },
      "execution_count": null,
      "outputs": []
    },
    {
      "cell_type": "code",
      "source": [
        "# Return the count of dinucleotides in given sequence\n",
        "def getCount(d):\n",
        "  count = dict()\n",
        "  for i in range(0, len(d) - 1):\n",
        "    if str(d[i : i + 2]) not in count:\n",
        "      count[str(d[i : i + 2])] = 1\n",
        "    else:  \n",
        "      count[str(d[i : i + 2])] += 1\n",
        "  return count"
      ],
      "metadata": {
        "id": "fOiQsX1BDBbo"
      },
      "execution_count": null,
      "outputs": []
    },
    {
      "cell_type": "code",
      "source": [
        "# Return an array of index of valid sequences (not N) in format [start, end]\n",
        "def getIndex(d):\n",
        "  ret = []\n",
        "  start = -1\n",
        "  for i in range(0, len(d) - 1):\n",
        "    if (d[i] != 'N'):\n",
        "      if (start == -1):\n",
        "        start = i\n",
        "    else:\n",
        "      if (start != -1):\n",
        "        ret.append([start, i - 1])\n",
        "        start = -1\n",
        "  return np.array(ret)"
      ],
      "metadata": {
        "id": "TcaOaBPUDGEQ"
      },
      "execution_count": null,
      "outputs": []
    },
    {
      "cell_type": "code",
      "source": [
        "# Return data with no overlapping subsequence\n",
        "def merge(data):\n",
        "  if data.shape[0] == 0:\n",
        "    return np.zeros(0)\n",
        "  ret = []\n",
        "  d = data[0]\n",
        "  for i in range(data.shape[0]):\n",
        "    if data[i, 0] <= d[1]:\n",
        "      d[1] = d[1] if d[1] >= data[i, 1] else data[i, 1]\n",
        "    else:\n",
        "      ret.append(d)\n",
        "      d = data[i]\n",
        "  return np.array(ret)"
      ],
      "metadata": {
        "id": "i7oNj2njwHHS"
      },
      "execution_count": null,
      "outputs": []
    },
    {
      "cell_type": "code",
      "source": [
        "def getState(df, feature):\n",
        "  subset = df[df['Type']==feature].drop(columns=['Type'])\n",
        "  temp = subset.to_numpy()\n",
        "  temp.sort(axis = 0)\n",
        "  return merge(temp)"
      ],
      "metadata": {
        "id": "ftXDWQomvo-d"
      },
      "execution_count": null,
      "outputs": []
    },
    {
      "cell_type": "markdown",
      "source": [
        "# Train Functions"
      ],
      "metadata": {
        "id": "E23YtrcqMcwb"
      }
    },
    {
      "cell_type": "code",
      "source": [
        "# Return the trained parameters\n",
        "# Arguments:\n",
        "#   data : a genetic sequence (ATCG)\n",
        "#   index: an array of [start, end] specifying valid regions in data (i.e. no N)\n",
        "#   state: an array of [start, end] specifying special regions in data (e.g. gene)\n",
        "def train(data, index, state):\n",
        "  a = np.zeros((2, 2))\n",
        "  b = np.zeros((2, 4))\n",
        "  print(\"Training\", end = \"\")\n",
        "  for i in range(index.shape[0]):\n",
        "    print(\".\", end = \"\")\n",
        "    updateCount(\n",
        "        data[index[i][0] : index[i][1] + 1], \n",
        "        state[np.logical_and(state[:, 1] >= index[i][0], state[:, 0] <= index[i][1])] - index[i][0],\n",
        "        a, \n",
        "        b)\n",
        "  print(\" completed\")\n",
        "\n",
        "  b = b / np.sum(b, axis = 1)[:, np.newaxis]\n",
        "  a = a / np.sum(a, axis = 1)[:, np.newaxis]\n",
        "  return {\"a\": a, \"b\": b}"
      ],
      "metadata": {
        "id": "Kd5mGe5G6QrE"
      },
      "execution_count": null,
      "outputs": []
    },
    {
      "cell_type": "code",
      "source": [
        "# Update the count of a and b\n",
        "# Arguments:\n",
        "#   data : a genetic sequence\n",
        "#   state: an array of [start, end] specifying special regions in data (e.g. gene)\n",
        "#   a    : transition matrix\n",
        "#   b    : emission matrix\n",
        "def updateCount(data, state, a, b):\n",
        "  K = state.shape[0]\n",
        "  j = 0 if K > 0 else -1  # if j = -1, no special region available\n",
        "  for i in range(len(data)):\n",
        "    if (j == -1):\n",
        "      b[0, D[data[i]]] += 1\n",
        "      if (i - 1 >= 0):\n",
        "        if (K > 0 and inRange(i - 1, state[K - 1])):\n",
        "          a[1, 0] += 1\n",
        "        else:\n",
        "          a[0, 0] += 1\n",
        "    else:\n",
        "      if (inRange(i, state[j])):\n",
        "        b[1, D[data[i]]] += 1\n",
        "        if (i - 1 >= 0):\n",
        "          if (K > 0 and inRange(i - 1, state[j])):\n",
        "            a[1, 1] += 1\n",
        "          else:\n",
        "            a[0, 1] += 1\n",
        "      else:\n",
        "        b[0, D[data[i]]] += 1\n",
        "        if (i - 1 >= 0):\n",
        "          if (K > 0 and inRange(i - 1, state[j])):\n",
        "            a[1, 0] += 1\n",
        "          else:\n",
        "            a[0, 0] += 1\n",
        "    \n",
        "    # Update j to make sure j is the current index of special region\n",
        "    if (j != -1 and i == state[j][1]):\n",
        "      j += 1\n",
        "      if (j == K):\n",
        "        j = -1"
      ],
      "metadata": {
        "id": "rZBGTw0K7786"
      },
      "execution_count": null,
      "outputs": []
    },
    {
      "cell_type": "code",
      "source": [
        "def inRange(idx, r):\n",
        "  return idx >= r[0] and idx <= r[1]"
      ],
      "metadata": {
        "id": "ybe5LqNmA1F3"
      },
      "execution_count": null,
      "outputs": []
    },
    {
      "cell_type": "markdown",
      "source": [
        "# Test Functions"
      ],
      "metadata": {
        "id": "ggdkYX1L8De1"
      }
    },
    {
      "cell_type": "code",
      "source": [
        "# Metric of accuracy\n",
        "metric = ([['True Positive', 'False Positive'], ['False Negative', 'True Negative']])"
      ],
      "metadata": {
        "id": "lZb8eN3xMoG0"
      },
      "execution_count": null,
      "outputs": []
    },
    {
      "cell_type": "code",
      "source": [
        "# Return most probable hidden state sequence\n",
        "def viterbi(data, a, b):\n",
        "  N = len(data)               # Length of sequence\n",
        "  K = 2                       # Number of States \n",
        "  V = np.zeros((K, N + 1))    # Joint Probability Tensor\n",
        "  P = np.zeros((K, N + 1))    # Pointer Tensor\n",
        "  V.fill(-float('inf'))\n",
        "  P.fill(-float('inf'))\n",
        "\n",
        "  # Initialize start state = State 0\n",
        "  V[:, 0] = np.log(a[0])\n",
        "\n",
        "  # Iterative Dynamic Programming\n",
        "  for i in range(1, N + 1):\n",
        "    for j in range(0, K):\n",
        "      for k in range(0, K):\n",
        "        p = V[k, i - 1] + np.log(a[k, j] * b[j, D[data[i - 1]]])\n",
        "        if (p > V[j][i]):\n",
        "          V[j, i] = p\n",
        "          P[j, i] = k\n",
        "  \n",
        "  # # Find the max sequence end\n",
        "  m = 1 if V[1, N] > V[0, N] else 0\n",
        "  res = np.zeros((N,), dtype = int)\n",
        "  res[N - 1] = m\n",
        "\n",
        "  # Backtrace the sequence\n",
        "  for i in range(N - 2, -1, -1):\n",
        "    res[i] = P[res[i + 1], i + 1]\n",
        "  return res"
      ],
      "metadata": {
        "id": "rfOaxLI_LS3z"
      },
      "execution_count": null,
      "outputs": []
    },
    {
      "cell_type": "code",
      "source": [
        "def analyze(accuracy):\n",
        "  print(accuracy)\n",
        "\n",
        "  precision = accuracy[0, 0] / np.sum(accuracy[0])\n",
        "  recall = accuracy[0, 0] / np.sum(accuracy[: , 0])\n",
        "  f1_score = 0 if precision == 0 or recall == 0 else 2 * precision * recall / (precision + recall)\n",
        "  overall_accuracy = (accuracy[0, 0] + accuracy[1, 1]) / accuracy.sum()\n",
        "\n",
        "  print(\"Precision: \" + str(round(precision, 4)))\n",
        "  print(\"Recall: \" + str(round(recall, 4)))\n",
        "  print(\"F1 Score: \" + str(round(f1_score, 4)))\n",
        "  print(\"Accuracy: \" + str(round(overall_accuracy, 4)))"
      ],
      "metadata": {
        "id": "OWFIuDOOB6pp"
      },
      "execution_count": null,
      "outputs": []
    },
    {
      "cell_type": "code",
      "source": [
        "def test(data, index, state, a, b, output = False):\n",
        "  accuracy = np.zeros((2, 2))\n",
        "  print(\"Testing\", end = \"\")\n",
        "  for i in range(index.shape[0]):\n",
        "    print(\".\", end = \"\")\n",
        "    v = viterbi(data[index[i][0] : index[i][1] + 1], a, b)\n",
        "    substate = state[np.logical_and(state[:, 1] >= index[i][0], state[:, 0] <= index[i][1])]\n",
        "    updateAccuracy(\n",
        "        v,\n",
        "        substate - index[i][0],\n",
        "        accuracy\n",
        "        )\n",
        "    if (output):\n",
        "      # Plot Actual Data\n",
        "      for s in substate:\n",
        "        start = max(s[0], index[i][0])\n",
        "        end = min(s[1], index[i][1]) + 1\n",
        "        plt.plot(range(start, end), np.ones((end - start)), color = \"blue\", alpha= 0.5,  linewidth = 1.5)\n",
        "\n",
        "      # Plot Prediction\n",
        "      k = -1\n",
        "      for j in range(v.shape[0]):\n",
        "        if (v[j] == 0):\n",
        "          if (k != -1):\n",
        "            start = k + index[i][0]\n",
        "            end = j + index[i][0] + 1\n",
        "            plt.plot(range(start, end), np.zeros((end - start)), color = \"red\", alpha = 0.5, linewidth = 1.5)\n",
        "            k = -1\n",
        "        else:\n",
        "          if (k == -1):\n",
        "            k = j\n",
        "      # if (i == 5):\n",
        "      #   break\n",
        "  plt.ylim([-1, 2])          \n",
        "  plt.show()\n",
        "  print(\" completed\")\n",
        "  analyze(accuracy)"
      ],
      "metadata": {
        "id": "UiQoSbyJNZTh"
      },
      "execution_count": null,
      "outputs": []
    },
    {
      "cell_type": "code",
      "source": [
        "test(training_set, training_index, training_state, param['a'], param['b'], True)"
      ],
      "metadata": {
        "colab": {
          "base_uri": "https://localhost:8080/",
          "height": 226
        },
        "id": "bNOtcxPhGS9p",
        "outputId": "44b7174a-680e-4eef-f05b-6f16eef73b15"
      },
      "execution_count": null,
      "outputs": [
        {
          "output_type": "stream",
          "name": "stdout",
          "text": [
            "Testing........................"
          ]
        },
        {
          "output_type": "display_data",
          "data": {
            "text/plain": [
              "<Figure size 3600x216 with 1 Axes>"
            ],
            "image/png": "[encoded data removed]"
          },
          "metadata": {
            "needs_background": "light"
          }
        },
        {
          "output_type": "stream",
          "name": "stdout",
          "text": [
            " completed\n",
            "[[ 550932.  602260.]\n",
            " [ 821385. 1242565.]]\n",
            "Precision: 0.4777\n",
            "Recall: 0.4015\n",
            "F1 Score: 0.4363\n",
            "Accuracy: 0.5575\n"
          ]
        }
      ]
    },
    {
      "cell_type": "code",
      "source": [
        "test(testing_set, testing_index, testing_state, param['a'], param['b'], True)"
      ],
      "metadata": {
        "colab": {
          "base_uri": "https://localhost:8080/",
          "height": 226
        },
        "id": "3Q0J7ZLqDESf",
        "outputId": "fc530b5d-d73d-401f-c5a1-6dd68859278a"
      },
      "execution_count": null,
      "outputs": [
        {
          "output_type": "stream",
          "name": "stdout",
          "text": [
            "Testing........................................................................................."
          ]
        },
        {
          "output_type": "display_data",
          "data": {
            "text/plain": [
              "<Figure size 3600x216 with 1 Axes>"
            ],
            "image/png": "[encoded data removed]"
          },
          "metadata": {
            "needs_background": "light"
          }
        },
        {
          "output_type": "stream",
          "name": "stdout",
          "text": [
            " completed\n",
            "[[16577475. 10970763.]\n",
            " [13679677. 22716342.]]\n",
            "Precision: 0.6018\n",
            "Recall: 0.5479\n",
            "F1 Score: 0.5736\n",
            "Accuracy: 0.6145\n"
          ]
        }
      ]
    },
    {
      "cell_type": "code",
      "source": [
        "def updateAccuracy(v, state, accuracy):\n",
        "  K = state.shape[0]\n",
        "  j = 0 if K > 0 else -1\n",
        "  for i in range(v.shape[0]):\n",
        "    if j == -1:\n",
        "      if (v[i] == 0):\n",
        "        accuracy[1, 1] += 1\n",
        "      else:\n",
        "        accuracy[0, 1] += 1\n",
        "    else:\n",
        "      if (v[i] == 0):\n",
        "        if (inRange(i, state[j])):\n",
        "          accuracy[1, 1] += 1\n",
        "        else:\n",
        "          accuracy[1, 0] += 1\n",
        "      else:\n",
        "        if (inRange(i, state[j])):\n",
        "          accuracy[0, 0] += 1\n",
        "        else:\n",
        "          accuracy[0, 1] += 1\n",
        "    if j != -1 and i == state[j][1]:\n",
        "      j += 1\n",
        "      if (j == K):\n",
        "        j = -1"
      ],
      "metadata": {
        "id": "G2d1LApHLfbA"
      },
      "execution_count": null,
      "outputs": []
    },
    {
      "cell_type": "code",
      "source": [
        "def baseline_test(data, index, state):\n",
        "  a = np.zeros((2, 2))\n",
        "  b = np.zeros((2, 4))\n",
        "  print(\"Training\", end = \"\")\n",
        "  for i in range(index.shape[0]):\n",
        "    print(\".\", end = \"\")\n",
        "    updateCount(\n",
        "        data[index[i][0] : index[i][1] + 1], \n",
        "        state[np.logical_and(state[:, 1] >= index[i][0], state[:, 0] <= index[i][1])] - index[i][0],\n",
        "        a, \n",
        "        b)\n",
        "  print(\" completed\")\n",
        "  temp = np.sum(b, axis = 1)\n",
        "  print(\"Baseline Accuracy: \" + str(round(temp[0] / np.sum(temp), 4)))"
      ],
      "metadata": {
        "id": "uy33GzynhUdg"
      },
      "execution_count": null,
      "outputs": []
    },
    {
      "cell_type": "markdown",
      "source": [
        "# Main"
      ],
      "metadata": {
        "id": "nrSGymTfMpC7"
      }
    },
    {
      "cell_type": "code",
      "source": [
        "# Feature References for Type\n",
        "features = ['gene', 'exon', 'transcript', 'CDS', 'UTR', 'start_codon', 'stop_codon']"
      ],
      "metadata": {
        "id": "okH5I8kLLYwy"
      },
      "execution_count": null,
      "outputs": []
    },
    {
      "cell_type": "code",
      "source": [
        "# Import data (chr21.csv and sequence_fasta.txt)\n",
        "uploaded = files.upload()\n",
        "del uploaded"
      ],
      "metadata": {
        "colab": {
          "resources": {
            "http://localhost:8080/nbextensions/google.colab/files.js": {
              "data": "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",
              "ok": true,
              "headers": [
                [
                  "content-type",
                  "application/javascript"
                ]
              ],
              "status": 200,
              "status_text": ""
            }
          },
          "base_uri": "https://localhost:8080/",
          "height": 177
        },
        "id": "Gg0TtAPzoL_u",
        "outputId": "98a168a0-5737-417e-8408-d4585cf13a59"
      },
      "execution_count": null,
      "outputs": [
        {
          "output_type": "display_data",
          "data": {
            "text/plain": [
              "<IPython.core.display.HTML object>"
            ],
            "text/html": [
              "\n",
              "     <input type=\"file\" id=\"files-b3905bf2-0295-49e6-866d-573686313b39\" name=\"files[]\" multiple disabled\n",
              "        style=\"border:none\" />\n",
              "     <output id=\"result-b3905bf2-0295-49e6-866d-573686313b39\">\n",
              "      Upload widget is only available when the cell has been executed in the\n",
              "      current browser session. Please rerun this cell to enable.\n",
              "      </output>\n",
              "      <script src=\"/nbextensions/google.colab/files.js\"></script> "
            ]
          },
          "metadata": {}
        },
        {
          "output_type": "stream",
          "name": "stdout",
          "text": [
            "Saving chr20.csv to chr20.csv\n",
            "Saving chr20.txt to chr20.txt\n",
            "Saving chr21.csv to chr21.csv\n",
            "Saving chr21.txt to chr21.txt\n"
          ]
        }
      ]
    },
    {
      "cell_type": "markdown",
      "source": [
        "TODO:\n",
        "\n",
        "1) Make a plot the genes versus predicted genes\n"
      ],
      "metadata": {
        "id": "e-ED_LMVY13S"
      }
    },
    {
      "cell_type": "code",
      "source": [
        "# Precompute resources for training and testing\n",
        "\n",
        "# Datasets\n",
        "training_set = getData('chr21.txt')\n",
        "testing_set = getData('chr20.txt')\n",
        "\n",
        "# GTF Annotations\n",
        "training_df = pd.read_csv('chr21.csv')\n",
        "testing_df = pd.read_csv('chr20.csv')\n",
        "\n",
        "# Indices\n",
        "training_index = getIndex(training_set)\n",
        "testing_index = getIndex(testing_set)\n",
        "\n",
        "# Gene State\n",
        "training_state = getState(training_df, 'gene')\n",
        "testing_state = getState(testing_df, 'gene')"
      ],
      "metadata": {
        "id": "1BfWdVIQC2U2"
      },
      "execution_count": null,
      "outputs": []
    },
    {
      "cell_type": "code",
      "source": [
        "baseline_test(testing_set, testing_index, testing_state)"
      ],
      "metadata": {
        "colab": {
          "base_uri": "https://localhost:8080/"
        },
        "id": "jwC7eeOai0Hb",
        "outputId": "aee5605b-8913-43b3-932b-261dcb6f4599"
      },
      "execution_count": null,
      "outputs": [
        {
          "output_type": "stream",
          "name": "stdout",
          "text": [
            "Training......................................................................................... completed\n",
            "Baseline Accuracy: 0.4367\n"
          ]
        }
      ]
    },
    {
      "cell_type": "code",
      "source": [
        "param = train(training_set, training_index, training_state)"
      ],
      "metadata": {
        "colab": {
          "base_uri": "https://localhost:8080/"
        },
        "id": "oKoepE2C49d5",
        "outputId": "64c2750c-a1ee-466b-becd-015f613b3083"
      },
      "execution_count": null,
      "outputs": [
        {
          "output_type": "stream",
          "name": "stdout",
          "text": [
            "Training........................ completed\n"
          ]
        }
      ]
    },
    {
      "cell_type": "code",
      "source": [
        "test(training_set, training_index, training_state, param['a'], param['b'], True)"
      ],
      "metadata": {
        "colab": {
          "base_uri": "https://localhost:8080/",
          "height": 226
        },
        "id": "ishSB8nN4_OT",
        "outputId": "a61674af-3489-4a2d-fe06-6ac99f6714a9"
      },
      "execution_count": null,
      "outputs": [
        {
          "output_type": "stream",
          "name": "stdout",
          "text": [
            "Testing......"
          ]
        },
        {
          "output_type": "display_data",
          "data": {
            "text/plain": [
              "<Figure size 3600x216 with 1 Axes>"
            ],
            "image/png": "[encoded data removed]"
          },
          "metadata": {
            "needs_background": "light"
          }
        },
        {
          "output_type": "stream",
          "name": "stdout",
          "text": [
            " completed\n",
            "[[131894.  92709.]\n",
            " [ 64939. 367051.]]\n",
            "Precision: 0.5872\n",
            "Recall: 0.6701\n",
            "F1 Score: 0.6259\n",
            "Accuracy: 0.7599\n"
          ]
        }
      ]
    },
    {
      "cell_type": "code",
      "source": [
        "test(testing_set, testing_index, testing_state, param['a'], param['b'], True)"
      ],
      "metadata": {
        "id": "YosZm3kQ_01b"
      },
      "execution_count": null,
      "outputs": []
    },
    {
      "cell_type": "code",
      "source": [
        "# Warning: this takes 15 minutes\n",
        "def main():\n",
        "  print('This is a hidden markov model that models the human genome sequencing.')\n",
        "  print('The model trains on chromosome 21 and its accuracy is being tested on chromosome 20')\n",
        "  param = train(training_set, training_index, training_state)\n",
        "  # print(param['a'])\n",
        "  # print(param['b'])\n",
        "  test(testing_set, testing_index, testing_state, param['a'], param['b'], True)\n",
        "  print('\\n')"
      ],
      "metadata": {
        "id": "UzxebDkuLLlh"
      },
      "execution_count": null,
      "outputs": []
    },
    {
      "cell_type": "code",
      "source": [
        "main()"
      ],
      "metadata": {
        "colab": {
          "base_uri": "https://localhost:8080/",
          "height": 312
        },
        "id": "UCotdisBZS50",
        "outputId": "57d662a1-af17-4a8a-9204-568eede591f6"
      },
      "execution_count": null,
      "outputs": [
        {
          "output_type": "stream",
          "name": "stdout",
          "text": [
            "This is a hidden markov model that models the human genome sequencing.\n",
            "The model trains on chromosome 21 and its accuracy is being tested on chromosome \n",
            "Training........................ completed\n",
            "Testing........................................................................................."
          ]
        },
        {
          "output_type": "display_data",
          "data": {
            "text/plain": [
              "<Figure size 3600x216 with 1 Axes>"
            ],
            "image/png": "[encoded data removed]"
          },
          "metadata": {
            "needs_background": "light"
          }
        },
        {
          "output_type": "stream",
          "name": "stdout",
          "text": [
            " completed\n",
            "[[16577475. 10970763.]\n",
            " [13679677. 22716342.]]\n",
            "Precision: 0.6018\n",
            "Recall: 0.5479\n",
            "F1 Score: 0.5736\n",
            "Accuracy: 0.6145\n",
            "\n",
            "\n"
          ]
        }
      ]
    },
    {
      "cell_type": "markdown",
      "source": [
        "# Result"
      ],
      "metadata": {
        "id": "UA5g3-CDg2bC"
      }
    },
    {
      "cell_type": "markdown",
      "source": [
        "## Training Result\n",
        "\n",
        "```\n",
        "[[9.99963052e-01 3.69475868e-05]\n",
        " [1.76096479e-05 9.99982390e-01]]\n",
        "[[0.28708164 0.29674664 0.21116052 0.20501121]\n",
        " [0.25873412 0.27473297 0.2353693  0.23116361]]\n",
        "```"
      ],
      "metadata": {
        "id": "x9UfoJTPgFtx"
      }
    },
    {
      "cell_type": "markdown",
      "source": [
        "## Testing Result\n",
        "\n",
        "Test on Chromosome 21 (the training set)\n",
        "\n",
        "```\n",
        "[[ 550932.  602260.]\n",
        " [ 821385. 1242565.]]\n",
        "Precision: 0.4777\n",
        "Recall: 0.4015\n",
        "F1 Score: 0.4363\n",
        "Accuracy: 0.5575\n",
        "Baseline Accuracy: 0.6646\n",
        "```\n",
        "\n",
        "Test on Chromosome 20 (the testing set)\n",
        "\n",
        "```\n",
        "[[16577475. 10970763.]\n",
        " [13679677. 22716342.]]\n",
        "Precision: 0.6018\n",
        "Recall: 0.5479\n",
        "F1 Score: 0.5736\n",
        "Accuracy: 0.6145\n",
        "Baseline Accuracy: 0.4367\n",
        "```"
      ],
      "metadata": {
        "id": "hDEzoc2lN2Jl"
      }
    },
    {
      "cell_type": "markdown",
      "source": [
        "# Future Proposal"
      ],
      "metadata": {
        "id": "lHbZR03GFLR0"
      }
    },
    {
      "cell_type": "markdown",
      "source": [
        "Our implementation could be improved further by extending the current model of dinucleotides to codons. \n",
        "\n",
        "Details to be considered:\n",
        "- Type of emissions: remain 4 (ATCG)\n",
        "- Transition: how??"
      ],
      "metadata": {
        "id": "Ci8ybLVyFPiR"
      }
    }
  ]
}